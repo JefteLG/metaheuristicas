{
  "nbformat": 4,
  "nbformat_minor": 0,
  "metadata": {
    "colab": {
      "name": "metaheuristicas.ipynb",
      "provenance": [],
      "authorship_tag": "ABX9TyNNgo5mUDReXmqOm4FcDZsM",
      "include_colab_link": true
    },
    "kernelspec": {
      "name": "python3",
      "display_name": "Python 3"
    }
  },
  "cells": [
    {
      "cell_type": "markdown",
      "metadata": {
        "id": "view-in-github",
        "colab_type": "text"
      },
      "source": [
        "<a href=\"https://colab.research.google.com/github/JefteLG/metaheuristicas/blob/main/metaheuristicas.ipynb\" target=\"_parent\"><img src=\"https://colab.research.google.com/assets/colab-badge.svg\" alt=\"Open In Colab\"/></a>"
      ]
    },
    {
      "cell_type": "markdown",
      "metadata": {
        "id": "2GblV3pEuOaV"
      },
      "source": [
        "<center><h1><strong>Metaheurísticas<strong><h1><center>"
      ]
    },
    {
      "cell_type": "markdown",
      "metadata": {
        "id": "hpeVe3uHxWrg"
      },
      "source": [
        "Esse notebook foi feito com o objetivo de explorar o funcionamento e as aplicabilidades que norteiam as metaheurísticas. Buscamos apresentar tudo com uma didática simplificada para maximizar a medida do possível o entendimento do assunto, que a principio pode parecer complexo.\n",
        "\n",
        "\n",
        "Notebook criado por estudantes do curso de Sistemas de Informação(IFTO-Paraiso) 6ºP:\n",
        "- `Jefté Lopes G.`\n",
        "- `Edivaldo Araujo Jr.`\n",
        "- `Lucas Lopes`"
      ]
    },
    {
      "cell_type": "markdown",
      "metadata": {
        "id": "7Gv5zQUZu1n8"
      },
      "source": [
        "# 1.0 - Metaheurísticas?"
      ]
    },
    {
      "cell_type": "markdown",
      "metadata": {
        "id": "kexf0Jy7LzCY"
      },
      "source": [
        "## O que são Heurísticas?"
      ]
    },
    {
      "cell_type": "markdown",
      "metadata": {
        "id": "Oa0u6GoQL_gT"
      },
      "source": [
        "Explicar heurísticas...."
      ]
    },
    {
      "cell_type": "markdown",
      "metadata": {
        "id": "_tyWn5JYHaay"
      },
      "source": [
        "## Etimologia e Surgimento"
      ]
    },
    {
      "cell_type": "markdown",
      "metadata": {
        "id": "uz_twi9LI4E9"
      },
      "source": [
        "A palavra Heurística teve origem do grego Heuriskein que significa “A arte de descobrir novas estratégias(regras) para resolver problemas” e o sufixo meta que também vem do grego significa “Metodologia de nível superior” termo metaheurística foi introduzido por F. Glover em 1986 com “Future paths for integer programming and links to artificial intelligence”."
      ]
    },
    {
      "cell_type": "markdown",
      "metadata": {
        "id": "LGqWrwpSK1jn"
      },
      "source": [
        "## O que levou acriação desse termo?"
      ]
    },
    {
      "cell_type": "markdown",
      "metadata": {
        "id": "GSacJO7dHd3S"
      },
      "source": [
        "## Abordagem extensa"
      ]
    },
    {
      "cell_type": "markdown",
      "metadata": {
        "id": "MZu6vKIWIH54"
      },
      "source": [
        "Por que surgiu?"
      ]
    },
    {
      "cell_type": "markdown",
      "metadata": {
        "id": "_aRDhQQ4_bk0"
      },
      "source": [
        "- **Definição original:** Metaheurísticas são métodos de solução que coordenam\n",
        "procedimentos de busca locais com estratégias de mais alto nível, de modo a criar um processo capaz\n",
        "de escapar de mínimos locais e realizar uma busca robusta no espaço de soluções de um problema."
      ]
    },
    {
      "cell_type": "markdown",
      "metadata": {
        "id": "MS2Ad9iTEDIG"
      },
      "source": [
        "- **Definição simplificada(Atual):** Uma metaheurística visa produzir um resultado satisfatório para\n",
        "um problema, porém sem qualquer garantia de otimalidade.\n"
      ]
    },
    {
      "cell_type": "markdown",
      "metadata": {
        "id": "jsYoHGjoEcpK"
      },
      "source": [
        "- A definição simplificada é interessante, porque diferente da original, a simplificada  abrange quaisquer procedimentos que empregam estratégias para escapar de mínimos locais em espaços de busca de soluções complexas. Em especial, foram incorporados procedimentos que utilizam o conceito de vizinhança para estabelecer meios de fugir dos mínimos locais."
      ]
    },
    {
      "cell_type": "markdown",
      "metadata": {
        "id": "bJw-alzHGTz7"
      },
      "source": [
        "- **Metaheurísticas são aplicadas para encontrar respostas a problemas sobre os quais há poucas informações: não se sabe como é a aparência de uma solução ótima, há pouca informação heurística disponível e força-bruta é desconsiderada devido ao espaço de solução ser muito grande. Porém, dada uma solução candidata ao problema, esta pode ser testada e sua otimalidade, averiguada.**"
      ]
    },
    {
      "cell_type": "markdown",
      "metadata": {
        "id": "prUcKWd1K-Qg"
      },
      "source": [
        "## Abordagem simplificada"
      ]
    },
    {
      "cell_type": "markdown",
      "metadata": {
        "id": "KdSsCvswLb2x"
      },
      "source": [
        "- A metaheurística busca encontrar soluções boas ou até mesmo ótima.\n",
        "\n",
        "- A metaheurística consiste em aplicar iterativamente uma heuristica subordinada(busca local).\n",
        "\n",
        "- A metaheurística tem pelo menos um mecanismo para escapar de ótimos locais(vales)."
      ]
    },
    {
      "cell_type": "markdown",
      "metadata": {
        "id": "GXYsS0eRLI8i"
      },
      "source": [
        "**Na metaheurística existe duas divisões básicas.**"
      ]
    },
    {
      "cell_type": "markdown",
      "metadata": {
        "id": "uYVVEdBfNsE9"
      },
      "source": [
        "Metaheurísticas Com Uma Única Solução (Gera Uma Sequência De\n",
        "Soluções):\n",
        "- Explora o espaço das soluções por meio de movimentos aplicados a cada passo sobre uma solução corrente. \n",
        "\n",
        "- Normalmente mantém uma única solução corrente. "
      ]
    },
    {
      "cell_type": "markdown",
      "metadata": {
        "id": "C0NqyRClU_XB"
      },
      "source": [
        "Exemplos de algoritmos:\n",
        "\n",
        "- MULT-START\n",
        "- GRASP - Greedy Randomized Adaptive - Search Procedure\n",
        "- VNS – Variable Neighborhood Search\n",
        "- ILS – Iterated Loal Search\n",
        "- BUSCA TABU - Tabu Search\n",
        "- SA - Simulated Annealing\n"
      ]
    },
    {
      "cell_type": "markdown",
      "metadata": {
        "id": "ixsHSddOPVXa"
      },
      "source": [
        "Metaheurísticas Com Várias Soluções (Busca Populacional):\n",
        "- mantém um conjunto de boas soluções e as combina para produzir soluções ainda melhores.\n",
        "\n",
        "- Normalmente não realizam procedimento de refinamento das soluções, ou sejam, de busca local.\n",
        "\n",
        "- Deve manter um conjunto de soluções correntes."
      ]
    },
    {
      "cell_type": "markdown",
      "metadata": {
        "id": "aAs-UO0sVaYk"
      },
      "source": [
        "Exemplos de algoritmos:\n",
        "\n",
        "- ALGORITMOS GENÉTICOS\n",
        "- COLÔNIA DE FORMIGAS\n",
        "- COLÔNIA DE ABELHAS\n",
        "- BBO - BIOGEOGRAPHY-BASED-OPTIMIZATION"
      ]
    },
    {
      "cell_type": "markdown",
      "metadata": {
        "id": "oviSIzhUvCHi"
      },
      "source": [
        "# 2.0 - Quando e por que surgiu?"
      ]
    },
    {
      "cell_type": "markdown",
      "metadata": {
        "id": "jrP_9CxDvPQ0"
      },
      "source": [
        "# 3.0 - Fundamentos(Os 4 pilares do saber)"
      ]
    },
    {
      "cell_type": "markdown",
      "metadata": {
        "id": "HutuZRfyv0Sh"
      },
      "source": [
        "## saber entender o problema"
      ]
    },
    {
      "cell_type": "markdown",
      "metadata": {
        "id": "6u663xvwwA_x"
      },
      "source": [
        "## Saber gerar uma solução"
      ]
    },
    {
      "cell_type": "markdown",
      "metadata": {
        "id": "4CuvH4FzwJAB"
      },
      "source": [
        "## Saber avaliar uma solução gerada"
      ]
    },
    {
      "cell_type": "markdown",
      "metadata": {
        "id": "KBTbQodFwUAA"
      },
      "source": [
        "## Saber explorar o espaço de busca"
      ]
    },
    {
      "cell_type": "markdown",
      "metadata": {
        "id": "eZhPQOcXvYtG"
      },
      "source": [
        "# 4.0 - Aplicabilidade"
      ]
    },
    {
      "cell_type": "markdown",
      "metadata": {
        "id": "2dpajRYMw_QV"
      },
      "source": [
        "# 5.0 - Agradecimentos/Bibliografia "
      ]
    }
  ]
}